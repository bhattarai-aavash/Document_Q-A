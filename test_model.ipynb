{
 "cells": [
  {
   "cell_type": "code",
   "execution_count": 6,
   "id": "a0c756fd",
   "metadata": {},
   "outputs": [],
   "source": [
    "!pip -q install git+https://github.com/huggingface/transformers"
   ]
  },
  {
   "cell_type": "code",
   "execution_count": 7,
   "id": "a0138b64",
   "metadata": {},
   "outputs": [],
   "source": [
    "img_path = \"inovice.png\""
   ]
  },
  {
   "cell_type": "code",
   "execution_count": 8,
   "id": "5d519379",
   "metadata": {},
   "outputs": [],
   "source": [
    "model_checkpoints = {\n",
    "    \"LayoutLMv1 🦉\": \"impira/layoutlm-document-qa\",\n",
    "    \"LayoutLMv1 for Invoices\": \"impira/layoutlm-invoices\",\n",
    "    \"Donut 🍩\": \"naver-clova-ix/donut-base-finetuned-docvqa\",\n",
    "}"
   ]
  },
  {
   "cell_type": "code",
   "execution_count": 9,
   "id": "d8ab6dd3",
   "metadata": {},
   "outputs": [
    {
     "ename": "ModuleNotFoundError",
     "evalue": "No module named 'transformers'",
     "output_type": "error",
     "traceback": [
      "\u001b[0;31m---------------------------------------------------------------------------\u001b[0m",
      "\u001b[0;31mModuleNotFoundError\u001b[0m                       Traceback (most recent call last)",
      "\u001b[0;32m/tmp/ipykernel_11389/1919719381.py\u001b[0m in \u001b[0;36m<module>\u001b[0;34m\u001b[0m\n\u001b[0;32m----> 1\u001b[0;31m \u001b[0;32mfrom\u001b[0m \u001b[0mtransformers\u001b[0m \u001b[0;32mimport\u001b[0m \u001b[0mpipeline\u001b[0m\u001b[0;34m\u001b[0m\u001b[0;34m\u001b[0m\u001b[0m\n\u001b[0m\u001b[1;32m      2\u001b[0m \u001b[0mpipe\u001b[0m \u001b[0;34m=\u001b[0m \u001b[0mpipeline\u001b[0m\u001b[0;34m(\u001b[0m\u001b[0;34m\"document-question-answering\"\u001b[0m \u001b[0;34m,\u001b[0m \u001b[0mmodel\u001b[0m \u001b[0;34m=\u001b[0m \u001b[0mmodel_checkpoints\u001b[0m\u001b[0;34m[\u001b[0m\u001b[0;34m\"LayoutLMv1 for Invoices\"\u001b[0m\u001b[0;34m]\u001b[0m\u001b[0;34m)\u001b[0m\u001b[0;34m\u001b[0m\u001b[0;34m\u001b[0m\u001b[0m\n",
      "\u001b[0;31mModuleNotFoundError\u001b[0m: No module named 'transformers'"
     ]
    }
   ],
   "source": [
    "from transformers import pipeline\n",
    "pipe = pipeline(\"document-question-answering\" , model = model_checkpoints[\"LayoutLMv1 for Invoices\"])"
   ]
  },
  {
   "cell_type": "code",
   "execution_count": 5,
   "id": "e66a74d6",
   "metadata": {},
   "outputs": [
    {
     "ename": "NameError",
     "evalue": "name 'pipe' is not defined",
     "output_type": "error",
     "traceback": [
      "\u001b[0;31m---------------------------------------------------------------------------\u001b[0m",
      "\u001b[0;31mNameError\u001b[0m                                 Traceback (most recent call last)",
      "\u001b[0;32m/tmp/ipykernel_11389/2446904485.py\u001b[0m in \u001b[0;36m<module>\u001b[0;34m\u001b[0m\n\u001b[0;32m----> 1\u001b[0;31m \u001b[0mpipe\u001b[0m\u001b[0;34m(\u001b[0m\u001b[0mimage\u001b[0m\u001b[0;34m=\u001b[0m\u001b[0mimg_path\u001b[0m\u001b[0;34m,\u001b[0m \u001b[0mquestion\u001b[0m \u001b[0;34m=\u001b[0m \u001b[0;34m\"What is the invoice#?\"\u001b[0m\u001b[0;34m)\u001b[0m\u001b[0;34m\u001b[0m\u001b[0;34m\u001b[0m\u001b[0m\n\u001b[0m",
      "\u001b[0;31mNameError\u001b[0m: name 'pipe' is not defined"
     ]
    }
   ],
   "source": [
    "pipe(image=img_path, question = \"What is the invoice#?\")"
   ]
  },
  {
   "cell_type": "code",
   "execution_count": null,
   "id": "07d3a4ae",
   "metadata": {},
   "outputs": [],
   "source": []
  },
  {
   "cell_type": "code",
   "execution_count": 15,
   "id": "538be484",
   "metadata": {},
   "outputs": [],
   "source": [
    "def question_formater(question):\n",
    "    question_list = question.split('?')\n",
    "    return [x for x in question_list if x != '']"
   ]
  },
  {
   "cell_type": "code",
   "execution_count": 16,
   "id": "fb215df6-78fc-4fd7-8920-8ce84b41fdec",
   "metadata": {},
   "outputs": [],
   "source": [
    "question_list = question_formater(\"what is the inovice no ? what is the date ? who is the buyer ? what is total ?\")"
   ]
  },
  {
   "cell_type": "code",
   "execution_count": 17,
   "id": "7482e38c-8ec3-45db-b4b8-53fa7cd40099",
   "metadata": {},
   "outputs": [
    {
     "name": "stdout",
     "output_type": "stream",
     "text": [
      "[{'score': 0.998577892780304, 'answer': 'us-001', 'start': 79, 'end': 79}]\n",
      "[{'score': 0.00024862895952537656, 'answer': '26/02/2019', 'start': 84, 'end': 84}]\n",
      "[{'score': 0.9999798536300659, 'answer': 'John Smith', 'start': 14, 'end': 15}]\n",
      "[{'score': 0.986971378326416, 'answer': '100.00', 'start': 86, 'end': 86}]\n"
     ]
    }
   ],
   "source": [
    "for question in question_list:\n",
    "    print(pipe(image=img_path, question = question))"
   ]
  },
  {
   "cell_type": "code",
   "execution_count": null,
   "id": "8e6cd62f-fed8-4440-8633-06a956ca20b1",
   "metadata": {},
   "outputs": [],
   "source": []
  }
 ],
 "metadata": {
  "kernelspec": {
   "display_name": "Python 3 (ipykernel)",
   "language": "python",
   "name": "python3"
  },
  "language_info": {
   "codemirror_mode": {
    "name": "ipython",
    "version": 3
   },
   "file_extension": ".py",
   "mimetype": "text/x-python",
   "name": "python",
   "nbconvert_exporter": "python",
   "pygments_lexer": "ipython3",
   "version": "3.8.10"
  }
 },
 "nbformat": 4,
 "nbformat_minor": 5
}
